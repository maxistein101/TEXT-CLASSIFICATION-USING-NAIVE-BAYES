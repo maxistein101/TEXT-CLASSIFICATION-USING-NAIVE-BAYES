{
 "cells": [
  {
   "cell_type": "code",
   "execution_count": 1,
   "id": "f7b315a8",
   "metadata": {},
   "outputs": [],
   "source": [
    "import numpy as np\n",
    "import pandas as pd\n",
    "import matplotlib.pyplot as plt\n",
    "from sklearn import datasets\n",
    "import os"
   ]
  },
  {
   "cell_type": "code",
   "execution_count": 2,
   "id": "c44517e9",
   "metadata": {},
   "outputs": [
    {
     "name": "stdout",
     "output_type": "stream",
     "text": [
      "99333\n",
      "2000\n"
     ]
    }
   ],
   "source": [
    "names_of_directory = [\"alt.atheism\",\"comp.graphics\",\"comp.os.ms-windows.misc\",\"comp.sys.ibm.pc.hardware\",\"comp.sys.mac.hardware\",\"comp.windows.x\",\"misc.forsale\",\"rec.autos\",\"rec.motorcycles\",\"rec.sport.baseball\",\"rec.sport.hockey\",\"sci.crypt\",\"sci.electronics\",\"sci.med\",\"sci.space\",\"soc.religion.christian\",\"talk.politics.guns\",\"talk.politics.mideast\",\"talk.politics.misc\",\"talk.religion.misc\"]\n",
    "words = {}\n",
    "file = open(\"Stop_words.txt\")\n",
    "f = file.read()\n",
    "stop_words = f.split(\"\\n\")\n",
    "stop_words = set(stop_words)\n",
    "def read_file(path):\n",
    "    with open(path) as f:\n",
    "        for line in f:\n",
    "            for word in line.split():\n",
    "                if word in stop_words:\n",
    "                    continue\n",
    "                if(words.get(word,0)==0):\n",
    "                    words[word]=1\n",
    "                else:\n",
    "                    words[word]+=1\n",
    "j=0\n",
    "for path_extension in names_of_directory:\n",
    "    path = \"C:\\\\Users\\\\Masood\\\\Ackerman\\\\Mini_newspaper\\\\mini_newsgroups\\\\\" + path_extension\n",
    "    os.chdir(path)\n",
    "    l = os.listdir()\n",
    "    for i in l:\n",
    "        file_path = f\"{path}\\{i}\"\n",
    "        j+=1\n",
    "        read_file(file_path)\n",
    "os.chdir(r\"C:\\Users\\Masood\\Ackerman\")\n",
    "print(len(words.keys()))\n",
    "print(j)"
   ]
  },
  {
   "cell_type": "markdown",
   "id": "ac9a3e0c",
   "metadata": {},
   "source": [
    "                           *SORTING DICTIONARY BY VALUES*"
   ]
  },
  {
   "cell_type": "code",
   "execution_count": 3,
   "id": "51076e32",
   "metadata": {},
   "outputs": [
    {
     "data": {
      "image/png": "[encoded data removed]",
      "text/plain": [
       "<Figure size 432x288 with 1 Axes>"
      ]
     },
     "metadata": {
      "needs_background": "light"
     },
     "output_type": "display_data"
    }
   ],
   "source": [
    "from matplotlib.axis import Axis\n",
    "words_new = {}\n",
    "x = np.arange(len(words.keys()))\n",
    "plt.plot(x,words.values())\n",
    "\n",
    "plt.show()\n",
    "words = {k:v for k,v in sorted(words.items(),key = lambda key_value:key_value[1],reverse = True)}\n",
    "cnt=0\n",
    "for i in words:\n",
    "    if(cnt>4000):\n",
    "        break\n",
    "    words_new[i] = words[i]\n",
    "    cnt+=1"
   ]
  },
  {
   "cell_type": "code",
   "execution_count": 4,
   "id": "884d11d9",
   "metadata": {},
   "outputs": [
    {
     "data": {
      "text/plain": [
       "(2000, 4001)"
      ]
     },
     "execution_count": 4,
     "metadata": {},
     "output_type": "execute_result"
    }
   ],
   "source": [
    "type(len(words_new.keys()))\n",
    "col = list(words_new.keys())\n",
    "x = np.zeros((2000,len(words_new.keys())))\n",
    "X = pd.DataFrame(x,columns = col)\n",
    "X.shape"
   ]
  },
  {
   "cell_type": "code",
   "execution_count": 5,
   "id": "9b22c656",
   "metadata": {},
   "outputs": [
    {
     "name": "stdout",
     "output_type": "stream",
     "text": [
      "Index(['I', '>', 'The', 'From:', 'Subject:', 'Date:', 'Newsgroups:',\n",
      "       'Message-ID:', 'Path:', 'Lines:',\n",
      "       ...\n",
      "       'key,', 'limits', '(Gordon', 'SIMMS', 'upset', 'dept.', 'condition,',\n",
      "       'inner', 'adapter', 'ports'],\n",
      "      dtype='object', length=4001)\n"
     ]
    }
   ],
   "source": [
    "j=0\n",
    "output=0\n",
    "Y = []\n",
    "def read_file(path):\n",
    "    with open(path) as f:\n",
    "        for line in f:\n",
    "            for word in line.split():\n",
    "                if word in X.columns:\n",
    "                    X.loc[j][word]+=1\n",
    "        Y.append(output)\n",
    "                \n",
    "                \n",
    "\n",
    "for path_extension in names_of_directory:\n",
    "    path = \"C:\\\\Users\\\\Masood\\\\Ackerman\\\\Mini_newspaper\\\\mini_newsgroups\\\\\" + path_extension\n",
    "    os.chdir(path)\n",
    "    l = os.listdir()\n",
    "    for i in l:\n",
    "        file_path = f\"{path}\\{i}\"\n",
    "        read_file(file_path)\n",
    "        j+=1\n",
    "    output+=1\n",
    "os.chdir(r\"C:\\Users\\Masood\\Ackerman\")\n",
    "Y = np.array(Y)\n",
    "print(X.columns)\n",
    "X = np.array(X)"
   ]
  },
  {
   "cell_type": "code",
   "execution_count": 6,
   "id": "1dae5252",
   "metadata": {},
   "outputs": [
    {
     "name": "stdout",
     "output_type": "stream",
     "text": [
      "[[24  0  0  0  0  0  1  0  3  0  0  0  0  0  0  0  1  0  0  2]\n",
      " [ 0  9  1  4  2  0  2  0  2  1  0  0  0  0  0  0  0  0  0  0]\n",
      " [ 0  1 22  5  0  0  3  0  0  1  0  0  0  0  0  0  0  0  0  0]\n",
      " [ 0  0  0 16  1  0  3  0  2  0  0  0  0  0  0  0  0  0  0  0]\n",
      " [ 0  0  1  3 19  0  1  0  0  1  0  0  0  0  1  0  0  0  0  0]\n",
      " [ 0  2  3  2  1 17  2  0  0  0  0  0  0  1  0  0  0  0  0  1]\n",
      " [ 0  0  0  1  1  0 19  0  0  0  1  0  0  0  0  0  1  0  0  0]\n",
      " [ 0  0  0  1  0  0  3 20  1  0  0  0  0  0  0  0  0  0  0  0]\n",
      " [ 0  0  0  0  0  0  0  0 19  0  0  0  0  0  1  0  0  0  0  0]\n",
      " [ 0  0  0  0  0  0  0  0  1 19  3  0  0  0  1  1  0  0  0  0]\n",
      " [ 0  0  1  0  0  0  1  2  1  1 12  0  0  0  0  0  2  0  0  0]\n",
      " [ 0  0  1  0  1  0  3  0  2  0  0 19  0  0  0  0  0  1  0  1]\n",
      " [ 0  0  3  5  1  0  2  1  4  1  0  0  6  0  1  0  1  0  0  0]\n",
      " [ 0  0  1  0  1  0  1  1  2  0  0  0  1 17  0  0  0  0  1  0]\n",
      " [ 1  0  0  1  0  0  0  1  0  0  0  0  1  1 23  1  1  0  0  0]\n",
      " [ 0  0  0  0  0  0  0  0  0  0  0  0  0  0  1 22  1  0  0  0]\n",
      " [ 0  0  0  0  0  0  3  0  0  0  0  0  1  0  1  0 14  1  0  3]\n",
      " [ 0  0  0  0  1  1  0  0  0  0  0  0  0  0  0  0  2 18  2  0]\n",
      " [ 0  0  0  1  0  0  0  0  0  1  0  0  0  0  0  0  5  2 12  2]\n",
      " [ 7  0  0  0  0  0  0  0  0  0  0  0  0  0  0  2  4  0  1 10]]\n",
      "              precision    recall  f1-score   support\n",
      "\n",
      "           0       0.75      0.77      0.76        31\n",
      "           1       0.75      0.43      0.55        21\n",
      "           2       0.67      0.69      0.68        32\n",
      "           3       0.41      0.73      0.52        22\n",
      "           4       0.68      0.73      0.70        26\n",
      "           5       0.94      0.59      0.72        29\n",
      "           6       0.43      0.83      0.57        23\n",
      "           7       0.80      0.80      0.80        25\n",
      "           8       0.51      0.95      0.67        20\n",
      "           9       0.76      0.76      0.76        25\n",
      "          10       0.75      0.60      0.67        20\n",
      "          11       1.00      0.68      0.81        28\n",
      "          12       0.67      0.24      0.35        25\n",
      "          13       0.89      0.68      0.77        25\n",
      "          14       0.79      0.77      0.78        30\n",
      "          15       0.85      0.92      0.88        24\n",
      "          16       0.44      0.61      0.51        23\n",
      "          17       0.82      0.75      0.78        24\n",
      "          18       0.75      0.52      0.62        23\n",
      "          19       0.53      0.42      0.47        24\n",
      "\n",
      "    accuracy                           0.67       500\n",
      "   macro avg       0.71      0.67      0.67       500\n",
      "weighted avg       0.72      0.67      0.67       500\n",
      "\n"
     ]
    }
   ],
   "source": [
    "from sklearn.naive_bayes import MultinomialNB\n",
    "from sklearn.model_selection import train_test_split\n",
    "X_train, X_test, Y_train, Y_test = train_test_split(X,Y,random_state=0)\n",
    "clf = MultinomialNB()\n",
    "clf.fit(X_train,Y_train)\n",
    "Y_pre = clf.predict(X_test)\n",
    "from sklearn.metrics import classification_report, confusion_matrix\n",
    "print(confusion_matrix(Y_test,Y_pre))\n",
    "print(classification_report(Y_test,Y_pre))"
   ]
  },
  {
   "cell_type": "code",
   "execution_count": 7,
   "id": "a676e728",
   "metadata": {},
   "outputs": [],
   "source": [
    "def fit(X_train,Y_train):\n",
    "    result = {}\n",
    "    classes = set(Y_train)\n",
    "    result[\"total_data\"] = len(Y_train)\n",
    "    for curr_class in classes:\n",
    "        result[curr_class] = {}\n",
    "        X_train_new = X_train[Y_train==curr_class]\n",
    "        result[curr_class][\"total_words\"] = X_train_new.sum()\n",
    "        result[curr_class][\"total_count\"] = len(Y_train[Y_train==curr_class])\n",
    "        feature_number = X_train.shape[1]\n",
    "        for curr_feature in range(1,feature_number+1):\n",
    "            result[curr_class][curr_feature] = X_train_new[:,curr_feature-1].sum()\n",
    "    \n",
    "    return result\n"
   ]
  },
  {
   "cell_type": "code",
   "execution_count": 8,
   "id": "c41558e0",
   "metadata": {},
   "outputs": [],
   "source": [
    "def probability(result,x,ai):\n",
    "    \n",
    "    p_ai = np.log(result[ai][\"total_count\"]) - np.log(result[\"total_data\"])\n",
    "    total_words = len(x)\n",
    "    curr_word = 1\n",
    "    for word in x:\n",
    "        curr_prob = word*(np.log((result[ai][curr_word]) + 1) - np.log((result[ai][\"total_words\"]) + total_words))\n",
    "        p_ai+=curr_prob\n",
    "        curr_word+=1\n",
    "    return p_ai"
   ]
  },
  {
   "cell_type": "code",
   "execution_count": 9,
   "id": "25947d78",
   "metadata": {},
   "outputs": [],
   "source": [
    "def PredictSinglePoint(result,x):\n",
    "    classes = result.keys()\n",
    "    best_p = -100000\n",
    "    best_class = -1\n",
    "    first_run = True\n",
    "    \n",
    "    for curr_class in classes:\n",
    "        if(curr_class==\"total_data\"):\n",
    "            continue\n",
    "        curr_probability = probability(result,x,curr_class)\n",
    "        if(first_run or best_p<curr_probability):\n",
    "            best_p = curr_probability\n",
    "            best_class = curr_class\n",
    "            first_run = False\n",
    "    return best_class"
   ]
  },
  {
   "cell_type": "code",
   "execution_count": 10,
   "id": "e07a4df1",
   "metadata": {},
   "outputs": [],
   "source": [
    "def predict(result, X_test):\n",
    "    Y_pred = []\n",
    "    for x in X_test:\n",
    "        x_class = PredictSinglePoint(result,x)\n",
    "        Y_pred.append(x_class)\n",
    "    Y_pred = np.array(Y_pred)\n",
    "    \n",
    "    return Y_pred"
   ]
  },
  {
   "cell_type": "code",
   "execution_count": 11,
   "id": "45437901",
   "metadata": {},
   "outputs": [],
   "source": [
    "def score(Y_pre,Y_test):\n",
    "    count=0\n",
    "    \n",
    "    for i in range(len(Y_pre)):\n",
    "        if(Y_pre[i]==Y_test[i]):\n",
    "            count+=1\n",
    "    return count/len(Y_pre)\n",
    "        "
   ]
  },
  {
   "cell_type": "code",
   "execution_count": 16,
   "id": "de496474",
   "metadata": {},
   "outputs": [],
   "source": [
    "result = fit(X_train,Y_train)"
   ]
  },
  {
   "cell_type": "code",
   "execution_count": 13,
   "id": "66d38522",
   "metadata": {},
   "outputs": [
    {
     "name": "stdout",
     "output_type": "stream",
     "text": [
      "[[24  0  0  0  0  0  1  0  3  0  0  0  0  0  0  0  1  0  0  2]\n",
      " [ 0  9  1  4  2  0  2  0  2  1  0  0  0  0  0  0  0  0  0  0]\n",
      " [ 0  1 22  5  0  0  3  0  0  1  0  0  0  0  0  0  0  0  0  0]\n",
      " [ 0  0  0 16  1  0  3  0  2  0  0  0  0  0  0  0  0  0  0  0]\n",
      " [ 0  0  1  3 19  0  1  0  0  1  0  0  0  0  1  0  0  0  0  0]\n",
      " [ 0  2  3  2  1 17  2  0  0  0  0  0  0  1  0  0  0  0  0  1]\n",
      " [ 0  0  0  1  1  0 19  0  0  0  1  0  0  0  0  0  1  0  0  0]\n",
      " [ 0  0  0  1  0  0  3 20  1  0  0  0  0  0  0  0  0  0  0  0]\n",
      " [ 0  0  0  0  0  0  0  0 19  0  0  0  0  0  1  0  0  0  0  0]\n",
      " [ 0  0  0  0  0  0  0  0  1 19  3  0  0  0  1  1  0  0  0  0]\n",
      " [ 0  0  1  0  0  0  1  2  1  1 12  0  0  0  0  0  2  0  0  0]\n",
      " [ 0  0  1  0  1  0  3  0  2  0  0 19  0  0  0  0  0  1  0  1]\n",
      " [ 0  0  3  5  1  0  2  1  4  1  0  0  6  0  1  0  1  0  0  0]\n",
      " [ 0  0  1  0  1  0  1  1  2  0  0  0  1 17  0  0  0  0  1  0]\n",
      " [ 1  0  0  1  0  0  0  1  0  0  0  0  1  1 23  1  1  0  0  0]\n",
      " [ 0  0  0  0  0  0  0  0  0  0  0  0  0  0  1 22  1  0  0  0]\n",
      " [ 0  0  0  0  0  0  3  0  0  0  0  0  1  0  1  0 14  1  0  3]\n",
      " [ 0  0  0  0  1  1  0  0  0  0  0  0  0  0  0  0  2 18  2  0]\n",
      " [ 0  0  0  1  0  0  0  0  0  1  0  0  0  0  0  0  5  2 12  2]\n",
      " [ 7  0  0  0  0  0  0  0  0  0  0  0  0  0  0  2  4  0  1 10]]\n",
      "              precision    recall  f1-score   support\n",
      "\n",
      "           0       0.75      0.77      0.76        31\n",
      "           1       0.75      0.43      0.55        21\n",
      "           2       0.67      0.69      0.68        32\n",
      "           3       0.41      0.73      0.52        22\n",
      "           4       0.68      0.73      0.70        26\n",
      "           5       0.94      0.59      0.72        29\n",
      "           6       0.43      0.83      0.57        23\n",
      "           7       0.80      0.80      0.80        25\n",
      "           8       0.51      0.95      0.67        20\n",
      "           9       0.76      0.76      0.76        25\n",
      "          10       0.75      0.60      0.67        20\n",
      "          11       1.00      0.68      0.81        28\n",
      "          12       0.67      0.24      0.35        25\n",
      "          13       0.89      0.68      0.77        25\n",
      "          14       0.79      0.77      0.78        30\n",
      "          15       0.85      0.92      0.88        24\n",
      "          16       0.44      0.61      0.51        23\n",
      "          17       0.82      0.75      0.78        24\n",
      "          18       0.75      0.52      0.62        23\n",
      "          19       0.53      0.42      0.47        24\n",
      "\n",
      "    accuracy                           0.67       500\n",
      "   macro avg       0.71      0.67      0.67       500\n",
      "weighted avg       0.72      0.67      0.67       500\n",
      "\n"
     ]
    }
   ],
   "source": [
    "Y_pre_bruh = predict(result,X_test)\n",
    "print(confusion_matrix(Y_test,Y_pre_bruh))\n",
    "print(classification_report(Y_test,Y_pre_bruh))"
   ]
  },
  {
   "cell_type": "code",
   "execution_count": 14,
   "id": "9b6450f6",
   "metadata": {},
   "outputs": [
    {
     "name": "stdout",
     "output_type": "stream",
     "text": [
      "Score of our NB :  0.674\n",
      "Score of inbuilt classifier :  0.674\n"
     ]
    }
   ],
   "source": [
    "print(\"Score of our NB : \",score(Y_pre_bruh,Y_test))\n",
    "print(\"Score of inbuilt classifier : \",clf.score(X_test,Y_test))"
   ]
  },
  {
   "cell_type": "markdown",
   "id": "bf8824a1",
   "metadata": {},
   "source": [
    "                       ALSO DOING COMPARISON WITH LOGISTIC REGRESSION CLASSIFIER"
   ]
  },
  {
   "cell_type": "code",
   "execution_count": 15,
   "id": "b1b25672",
   "metadata": {},
   "outputs": [
    {
     "name": "stdout",
     "output_type": "stream",
     "text": [
      "[[27  0  0  0  0  0  0  0  1  0  0  0  0  0  0  0  0  0  0  3]\n",
      " [ 0 16  0  1  0  0  0  0  0  0  0  1  2  0  0  0  0  0  0  1]\n",
      " [ 1  3 23  2  1  0  1  0  0  0  0  1  0  0  0  0  0  0  0  0]\n",
      " [ 0  0  0 18  0  1  1  0  1  0  0  0  1  0  0  0  0  0  0  0]\n",
      " [ 0  1  0  2 19  0  2  0  0  0  0  0  0  0  0  0  0  0  0  2]\n",
      " [ 0  0  0  0  1 27  1  0  0  0  0  0  0  0  0  0  0  0  0  0]\n",
      " [ 0  0  0  0  1  0 20  0  0  0  1  0  0  0  0  0  1  0  0  0]\n",
      " [ 0  0  0  0  0  0  2 21  0  0  0  0  1  0  0  0  0  0  1  0]\n",
      " [ 0  0  0  0  1  0  0  0 19  0  0  0  0  0  0  0  0  0  0  0]\n",
      " [ 0  0  0  0  0  0  0  2  0 21  2  0  0  0  0  0  0  0  0  0]\n",
      " [ 0  0  1  0  0  0  0  0  0  0 19  0  0  0  0  0  0  0  0  0]\n",
      " [ 0  0  0  0  0  1  3  0  0  0  0 21  0  0  0  0  0  0  0  3]\n",
      " [ 0  1  0  1  0  0  1  0  0  0  0  0 20  0  1  0  0  0  0  1]\n",
      " [ 0  0  0  1  0  0  0  2  0  0  0  0  0 20  0  0  0  0  1  1]\n",
      " [ 0  0  0  0  0  0  0  0  0  0  0  0  0  2 26  0  0  0  2  0]\n",
      " [ 0  0  0  0  0  0  0  0  0  0  0  0  0  0  0 24  0  0  0  0]\n",
      " [ 0  0  0  0  0  0  0  1  0  0  0  1  0  2  0  0 13  0  1  5]\n",
      " [ 0  0  1  0  0  1  0  0  0  0  0  1  0  0  0  0  2 18  1  0]\n",
      " [ 0  0  0  0  0  0  1  0  0  1  0  1  0  0  0  0  3  0 13  4]\n",
      " [ 3  0  0  0  0  0  0  0  0  0  0  0  0  0  0  0  2  0  6 13]]\n",
      "              precision    recall  f1-score   support\n",
      "\n",
      "           0       0.87      0.87      0.87        31\n",
      "           1       0.76      0.76      0.76        21\n",
      "           2       0.92      0.72      0.81        32\n",
      "           3       0.72      0.82      0.77        22\n",
      "           4       0.83      0.73      0.78        26\n",
      "           5       0.90      0.93      0.92        29\n",
      "           6       0.62      0.87      0.73        23\n",
      "           7       0.81      0.84      0.82        25\n",
      "           8       0.90      0.95      0.93        20\n",
      "           9       0.95      0.84      0.89        25\n",
      "          10       0.86      0.95      0.90        20\n",
      "          11       0.81      0.75      0.78        28\n",
      "          12       0.83      0.80      0.82        25\n",
      "          13       0.83      0.80      0.82        25\n",
      "          14       0.96      0.87      0.91        30\n",
      "          15       1.00      1.00      1.00        24\n",
      "          16       0.62      0.57      0.59        23\n",
      "          17       1.00      0.75      0.86        24\n",
      "          18       0.52      0.57      0.54        23\n",
      "          19       0.39      0.54      0.46        24\n",
      "\n",
      "    accuracy                           0.80       500\n",
      "   macro avg       0.81      0.80      0.80       500\n",
      "weighted avg       0.81      0.80      0.80       500\n",
      "\n"
     ]
    }
   ],
   "source": [
    "from sklearn.linear_model import LogisticRegression\n",
    "from sklearn.model_selection import train_test_split\n",
    "X_train, X_test, Y_train, Y_test = train_test_split(X,Y,random_state=0)\n",
    "clf = LogisticRegression(max_iter=1000)\n",
    "clf.fit(X_train,Y_train)\n",
    "Y_pre = clf.predict(X_test)\n",
    "from sklearn.metrics import classification_report, confusion_matrix\n",
    "print(confusion_matrix(Y_test,Y_pre))\n",
    "print(classification_report(Y_test,Y_pre))"
   ]
  },
  {
   "cell_type": "code",
   "execution_count": 20,
   "id": "4f28b79d",
   "metadata": {},
   "outputs": [
    {
     "name": "stdout",
     "output_type": "stream",
     "text": [
      "8\n"
     ]
    }
   ],
   "source": [
    "n_cpu = os.cpu_count()\n",
    "print(n_cpu)"
   ]
  }
 ],
 "metadata": {
  "kernelspec": {
   "display_name": "Python 3",
   "language": "python",
   "name": "python3"
  },
  "language_info": {
   "codemirror_mode": {
    "name": "ipython",
    "version": 3
   },
   "file_extension": ".py",
   "mimetype": "text/x-python",
   "name": "python",
   "nbconvert_exporter": "python",
   "pygments_lexer": "ipython3",
   "version": "3.8.8"
  }
 },
 "nbformat": 4,
 "nbformat_minor": 5
}
